{
 "cells": [
  {
   "cell_type": "code",
   "execution_count": 1,
   "metadata": {
    "collapsed": true
   },
   "outputs": [],
   "source": [
    "import pybinding as pb\n",
    "import numpy as np\n",
    "import matplotlib.pyplot as plt\n",
    "import pandas as pd\n",
    "from pybinding.repository import graphene"
   ]
  },
  {
   "cell_type": "code",
   "execution_count": 2,
   "metadata": {
    "collapsed": true
   },
   "outputs": [],
   "source": [
    "\n",
    "a_cc = graphene.a_cc\n",
    "a = graphene.a"
   ]
  },
  {
   "cell_type": "code",
   "execution_count": 3,
   "metadata": {
    "collapsed": true
   },
   "outputs": [],
   "source": [
    "class solver:\n",
    "    def define_solver(self, model):\n",
    "        self.a_lat = a_suplat\n",
    "        self.solver_model = pb.solver.lapack(model)\n",
    "        self.Gamma = [0, 0]\n",
    "        self.X = [np.pi/(self.a_lat), 0]\n",
    "        self.Gamma_prime = [2*np.pi/self.a_lat, 0]\n",
    "        self.X_prime = [np.pi/(self.a_lat)*1.5, 0]\n",
    "        self.Gamma_prime2 = [2*(2*np.pi/self.a_lat), 0]\n",
    "        \n",
    "    def plots_band(self, ylim = 1, ylimswitch = False, show_H = False, loadDat = False,\n",
    "                   band_title = '', dos_title = '', showDos = True, dos_broadening = 0.025, \n",
    "                   bandEnergySave = False, bandEnergy_name = '',\n",
    "                   dosSave = False, dos_name = ''):        \n",
    "        \n",
    "        self.ylim = ylim\n",
    "        self.bands_model = self.solver_model.calc_bands(self.Gamma, self.X, self.Gamma_prime,step = 0.01)\n",
    "        #####################################################\n",
    "        if bandEnergySave == True:\n",
    "            pb.save(self.bands_model.energy, bandEnergy_name)\n",
    "            \n",
    "        if show_H == True:\n",
    "            H = model.hamiltonian.todense()\n",
    "            print('Hamiltonian\\n', H)\n",
    "            print(len(H))\n",
    "        #####################################################\n",
    "        \n",
    "        #plt.figure(1, figsize=(15,10))\n",
    "        plt.subplot(121)\n",
    "        \n",
    "        if loadDat == True:\n",
    "            data1 = np.loadtxt('DFT-LDA_bandplot_97AGNR.dat')\n",
    "            X = data1[:,0]\n",
    "            Y = data1[:,1] - 0.25\n",
    "            plt.scatter(X,Y,s = 0.2, color='k')#size = 5)   \n",
    "            \n",
    "        self.bands_model.plot()\n",
    "\n",
    "        step = 0.05 * ylim\n",
    "        if ylimswitch == True:\n",
    "            plt.yticks(np.arange(-ylim, ylim, step))\n",
    "            plt.ylim(-ylim, ylim)\n",
    "\n",
    "        if showDos == True:\n",
    "            plt.subplot(122)\n",
    "            plt.title(dos_title)\n",
    "            plt.yticks(np.arange(-ylim, ylim, step))\n",
    "            self.dos_broadening = dos_broadening\n",
    "            dos = self.solver_model.calc_dos(\n",
    "                    energies = np.linspace(-self.ylim, self.ylim, 400),\n",
    "                    broadening = self.dos_broadening)  # [eV]\n",
    "    \n",
    "            plt.plot(dos.data, np.linspace(-self.ylim, self.ylim, 400))\n",
    "        #plt.show()\n",
    "    def plots_spldos1(self, sp_ldos_energy, sp_ldos_broadening, spl_title = ''):\n",
    "        #plt.figure(figsize = (15, 10))\n",
    "        plt.title(spl_title)\n",
    "        sp_ldos_model = self.solver_model.calc_spatial_ldos(energy = sp_ldos_energy,\n",
    "                                                            broadening= sp_ldos_broadening)\n",
    "        sp_ldos_model.plot()\n",
    "        pb.pltutils.colorbar(label=\"LDOS\")\n",
    "\n",
    "    def plots_dos(self, dos_broadening = 0.05):\n",
    "        dos = self.solver_model.calc_dos(\n",
    "              energies = np.linspace(-self.ylim, self.ylim, 200),\n",
    "              broadening = dos_broadening)  # [eV]\n",
    "        AA = dos.data\n",
    "        plt.plot(AA, np.linspace(-self.ylim, self.ylim, 200))"
   ]
  },
  {
   "cell_type": "code",
   "execution_count": 4,
   "metadata": {
    "collapsed": true
   },
   "outputs": [],
   "source": [
    "# Calcaulation for Z2 invarinat\n",
    "def Calc_z2invariant(N, edge = None):      # N is AGNR width\n",
    "    if edge =='zigzag_closed':\n",
    "        Z2 = (1+(-1)**(int(N/3)+int((N+1)/2)))/2\n",
    "    elif edge =='zigzag_open':\n",
    "        Z2 = (1-(-1)**(int(N/3)+int((N+1)/2)))/2\n",
    "    elif edge =='bearded':\n",
    "        Z2 = (1-(-1)**(int(N/3)))/2\n",
    "    return Z2"
   ]
  },
  {
   "cell_type": "code",
   "execution_count": 5,
   "metadata": {},
   "outputs": [
    {
     "name": "stdout",
     "output_type": "stream",
     "text": [
      "N 1\n",
      "0\n",
      "N 2\n",
      "1\n",
      "N 3\n",
      "0\n",
      "N 4\n",
      "1\n",
      "N 5\n",
      "1\n",
      "N 6\n",
      "1\n",
      "N 7\n",
      "1\n",
      "N 8\n",
      "0\n",
      "N 9\n",
      "1\n",
      "N 10\n",
      "0\n",
      "N 11\n",
      "0\n",
      "N 12\n",
      "0\n",
      "N 13\n",
      "0\n",
      "N 14\n",
      "1\n",
      "N 15\n",
      "0\n",
      "N 16\n",
      "1\n",
      "N 17\n",
      "1\n",
      "N 18\n",
      "1\n",
      "N 19\n",
      "1\n"
     ]
    }
   ],
   "source": [
    "class Z2inv:\n",
    "    def Gen_Z2_seed(self, N = 1, edge = ''):\n",
    "        if N%2 == 1:\n",
    "            if edge == 'Czig':\n",
    "                self.seed = [5, 7, 9]\n",
    "            elif edge == 'Ozig':\n",
    "                self.seed = [1, 3, 11]\n",
    "        if N%2 == 0:\n",
    "            if edge == 'Czig':\n",
    "                self.seed = [2, 4, 6]\n",
    "            elif edge == 'Bearded':\n",
    "                self.seed = [4, 10]\n",
    "\n",
    "    \n",
    "    def Gen_Z2_(self, N = 1, edge = '', Z2 =1, num_cycle = 3):\n",
    "        mod = 12            # modula 12 is used for Z2 invariants of the AGNR system \n",
    "        Z2_list = []\n",
    "        edge = edge\n",
    "        self.Gen_Z2_seed(N = N, edge = edge)\n",
    "        for i in range(0, num_cycle):\n",
    "            for j in range(0, len(self.seed)):\n",
    "                Z2_list.append(self.seed[j]+ 12*i)\n",
    "\n",
    "        if Z2 == 1:\n",
    "            res = Z2_list\n",
    "        elif Z2 == 0:\n",
    "            domain = np.arange(0+ 1*(N%2), mod*num_cycle, 2)\n",
    "            res = np.setdiff1d(domain, Z2_list)\n",
    "\n",
    "\n",
    "        return res\n",
    "    #print(Gen_Z2(N = 5, edge = 'Czig', Z2 = 1, num_cycle = 2))\n",
    "    #print(Gen_Z2(N = 5, edge = 'Czig', Z2 = 0, num_cycle = 2))\n",
    "    \n",
    "    def Get_Z2(self, N = 1, idx_seg = 1, ytrans = 0):      # idx_seg = 1 for left AGNR segment, \n",
    "        if N%2 == 1:                                       # idx_seg = 2 for right AGNR segment\n",
    "            edge = 'Czig'\n",
    "        elif N%2 == 0:\n",
    "            if idx_seg == 2 and ytrans%2 == 1:\n",
    "                edge = 'Ozig'\n",
    "            else:\n",
    "                edge = 'Czig'\n",
    "        self.Gen_Z2_seed(N=N, edge=edge)\n",
    "        #print('self.seed', self.seed)\n",
    "        #print('self.seed[:-1]', self.seed[-1])\n",
    "\n",
    "        num_cycle = (N-self.seed[-1])//12 + 2\n",
    "        #print('Gen_Z2_seed', seed)\n",
    "        #print('num_cycle', num_cycle)\n",
    "        Z2 = self.Gen_Z2_(N = N, edge = edge, Z2 = 1, num_cycle = num_cycle)\n",
    "        #print('Z2', Z2)\n",
    "        if Z2.count(N) == 1:\n",
    "            Z2inv = 1\n",
    "        else:#if np.count_nonzero(Z2 == N) == 0:\n",
    "            Z2inv = 0\n",
    "\n",
    "        #print('Z2inv', Z2inv)\n",
    "        return Z2inv\n",
    "\n",
    "test_class = Z2inv()\n",
    "for i in range(1, 20):\n",
    "    print('N', i)\n",
    "    print(test_class.Get_Z2(N = i, idx_seg = 1))"
   ]
  },
  {
   "cell_type": "code",
   "execution_count": 6,
   "metadata": {
    "collapsed": true
   },
   "outputs": [],
   "source": [
    "def Lat_two_seg_AGNR(N_seg1, N_seg2, start_y_seg2=0, \n",
    "               t1=graphene.t, t2=graphene.t, t_interface=graphene.t, \n",
    "               onsite1=0, onsite2=0, onsite_inter=0):\n",
    "    num_column1, num_column2 = 3, 3\n",
    "    num_columns = num_column1 + num_column2\n",
    "    global a_suplat\n",
    "    a_suplat = 3*a_cc * num_columns\n",
    "    lat = pb.Lattice(a1 = [a_suplat, 0],\n",
    "                     a2 = [0, graphene.a * (N_seg1-1)/2])\n",
    "\n",
    "    chr_up, chr_low, = [], []\n",
    "    for j in range(0, num_columns):\n",
    "        chr_up.append([]), chr_low.append([])\n",
    "        for i in range(0, N_seg1):\n",
    "            temp_up  = chr(65+j%26) + chr(65 + i%26)\n",
    "            temp_low = chr(65+j%26) + chr(65+32 + i%26)\n",
    "            for k in range(0, (i)//26):\n",
    "                temp_up  += chr(ord('+'))\n",
    "                temp_low += chr(ord('+'))\n",
    "                \n",
    "            chr_up[j].append( temp_up)\n",
    "            chr_low[j].append(temp_low)\n",
    "    \n",
    "    N_loop_end = N_seg1\n",
    "    cor = 0\n",
    "    var_cor = start_y_seg2\n",
    "    E_onsite_up, E_onsite_low = onsite1, onsite1\n",
    "    for j in range(0, num_columns):\n",
    "        ###################################################################\n",
    "        if j >=num_column1:\n",
    "            N_loop_end = N_seg2 + start_y_seg2 \n",
    "            cor = var_cor\n",
    "            if j == num_column1:\n",
    "                E_onsite_up = onsite_inter\n",
    "            elif j == num_columns:\n",
    "                E_onsite_low = onsite_inter\n",
    "            else:\n",
    "                E_onsite_up, E_onsite_low = onsite2, onsite2\n",
    "        ###################################################################        \n",
    "        for i in range(0 + cor, N_loop_end):\n",
    "            #print(i, 'adding a sublattice')\n",
    "            \n",
    "            if i%2 == 1:\n",
    "                lat.add_sublattices(\n",
    "                    (chr_up[j][i],  [0        +j*(3*a_cc),         0 + a/2*i], E_onsite_up))\n",
    "                lat.add_sublattices(\n",
    "                    (chr_low[j][i], [2*a_cc   +j*(3*a_cc),         0 + a/2*i], E_onsite_low))\n",
    "            elif i%2 == 0:\n",
    "                lat.add_sublattices(\n",
    "                    (chr_up[j][i],  [a_cc/2   +j*(3*a_cc), - a*1/2*0 + a/2*i], E_onsite_up))\n",
    "                lat.add_sublattices(\n",
    "                    (chr_low[j][i], [a_cc*3/2 +j*(3*a_cc), - a*1/2*0 + a/2*i], E_onsite_low))\n",
    "\n",
    "\n",
    "\n",
    "            \n",
    "    N_loop_end = N_seg1\n",
    "    cor = 0\n",
    "    t = t1\n",
    "    for j in range(0, num_columns):\n",
    "        ###################################################################\n",
    "        if j >= num_column1:\n",
    "            t = t2\n",
    "            N_loop_end = N_seg2 + start_y_seg2\n",
    "            cor = var_cor\n",
    "        ###################################################################\n",
    "        for i in range(0 + cor, N_loop_end):            \n",
    "            if i != N_loop_end - 1:\n",
    "                lat.add_hoppings(([0,  0], chr_up[j][i],  chr_up[j][i+1],   t))\n",
    "                lat.add_hoppings(([0,  0], chr_low[j][i], chr_low[j][i+1],  t))\n",
    "\n",
    "            if i%2 == 1 and j>=1 and j<= num_columns-1:# and i  <= N_loop_end:\n",
    "                #print(j,'th column bonding with j+1 th column')\n",
    "                if j == num_column1:\n",
    "                    lat.add_hoppings(([0,  0], chr_up[j][i],  chr_low[j-1][i], t_interface))\n",
    "                else:\n",
    "                    lat.add_hoppings(([0,  0], chr_up[j][i],  chr_low[j-1][i], t))\n",
    "            if i%2 == 0:\n",
    "                lat.add_hoppings(([0,  0], chr_up[j][i],  chr_low[j][i],   t))\n",
    "            if i%2 == 1 and j == num_columns-1:\n",
    "                lat.add_hoppings(([1,  0], chr_low[j][i],  chr_up[0][i],   t_interface))\n",
    "\n",
    "        \n",
    "            \n",
    "\n",
    "            return lat"
   ]
  },
  {
   "cell_type": "code",
   "execution_count": 7,
   "metadata": {
    "collapsed": true
   },
   "outputs": [],
   "source": [
    "def plot_forloop(N_list, seg_diff = [0]):\n",
    "    loop_counter = 0 -1      # minus one is added to make loop_counter start from 0\n",
    "    #for jj in N_list[1]:       #range(0,len(seg_diff)): d is y-translation in an unit of ribbon width index\n",
    "    '''        final_df = pd.DataFrame({'N1': 0,\n",
    "                                 'N2': 0,\n",
    "                                 'ytrans': 0,\n",
    "                                 'Z2_N1': 0,\n",
    "                                 'Z2_N2': 0,\n",
    "                                 'Z2_prop': 0,\n",
    "                                 '#atoms': 0,\n",
    "                                 'Egap$[eV]$': str(0)}, index =[0])\n",
    "    '''\n",
    "    for i_loop in range(0, len(N_list[0])):   # when there is no y-translation, d is 0\n",
    "        #j = i - seg_diff[jj]\n",
    "        i, j = N_list[0][i_loop], N_list[1][i_loop]\n",
    "        diff = i - j\n",
    "        #if seg_diff_num == \n",
    "\n",
    "        d = int(diff/2)\n",
    "        if i%2 == 1:\n",
    "            if diff <= 3:\n",
    "                d_list = [0, 1]#[d_temp for d_temp in range(0, d)]\n",
    "            elif diff >= 4:\n",
    "                d_list = [0, 1, d]\n",
    "        elif i%2 == 0:\n",
    "            if j%2 == 0:\n",
    "                if diff <= 6:\n",
    "                    d_list = [d_temp for d_temp in range(0, diff + 1)]\n",
    "                elif diff >= 7: # actually, diff is even number because i, j are even.\n",
    "                    d_list = [0, 1, d-1, d, d+1, diff-1, diff]\n",
    "            elif j%2 == 1:\n",
    "                if diff <= 4: # actually, diff is odd number because i is even, j is odd.\n",
    "                    d_list = [d_temp for d_temp in range(0, diff + 1)]\n",
    "                elif diff >= 5: \n",
    "                    d_list = [0, 1, d, d+1, diff-1, diff]\n",
    "\n",
    "        for k in d_list:\n",
    "            loop_counter += 1\n",
    "            print('k', k)\n",
    "            print('d_list', d_list)\n",
    "            plt.figure(1, figsize=(15,10))\n",
    "            plt.figure(2, figsize=(15,10))\n",
    "            plt.figure(3, figsize=(15,10))\n",
    "\n",
    "            N2, N1, d = j, i, k\n",
    "            lat_ANGR = Lat_two_seg_AGNR(N1, N2, start_y_seg2 = d,\n",
    "                                        t1=-2.8, t2=-2.8, t_interface = -2.8,\n",
    "                                        onsite1=0, onsite2=0)#onsite1=Onsite1[i], onsite2=-Onsite1[i])\n",
    "            model_ANGR = pb.Model(lat_ANGR,\n",
    "                                  pb.translational_symmetry(a1 = True, a2= False))\n",
    "\n",
    "            solver_sym = solver()\n",
    "            solver_sym.define_solver(model_ANGR)\n",
    "\n",
    "            plt.figure(3)\n",
    "            #plt.subplot(121)\n",
    "            solver_sym.plots_band(ylim = 1.5, ylimswitch = True, \n",
    "                  dos_broadening = 0.05, show_H = False,\n",
    "                  band_title= '', dos_title = '', showDos = True,\n",
    "                  bandEnergySave = True,  bandEnergy_name = 'plots_bandE_SC'+str(i)+str(j)+str(k),\n",
    "                  dosSave        = False, dos_name = 'plots_dos_SC'+str(i)+str(j)+str(k))\n",
    "\n",
    "            plt.figure(3), plt.subplot(121)\n",
    "            objFig = np.absolute(pb.load('plots_bandE_SC'+str(i)+str(j)+str(k)))\n",
    "            Emin = min([min(objFig[i]) for i in range(0, len(objFig))])\n",
    "            idx = np.where(objFig==Emin)\n",
    "            idx = idx[0][0]\n",
    "            #print('idx', idx)\n",
    "            plt.scatter(idx, Emin, marker = '^', s= 100, color='r')\n",
    "            plt.text(39*np.pi, 0.15, 'Emin:'+str(Emin)[:5]+'$eV$',   fontsize = 15)         \n",
    "            plt.text(39*np.pi, 0,    'Egap:'+str(2*Emin)[:5]+'$eV$', fontsize = 15)         \n",
    "\n",
    "            plt.subplot(122)\n",
    "            plt.text(4, -1.5, 'broadening:'+str(solver_sym.dos_broadening)[:5]+'$eV$'\n",
    "                     , horizontalalignment='left', fontsize = 15)\n",
    "\n",
    "            plt.figure(2)\n",
    "            plt.subplot(111)\n",
    "\n",
    "            solver_sym.plots_spldos1(sp_ldos_energy = Emin, sp_ldos_broadening = 0.05)\n",
    "            plt.text(3, -0.5, 'energy scope:'+str(Emin)[:5]+'$eV$', fontsize = 15)\n",
    "\n",
    "\n",
    "            pbLoadPlot = False\n",
    "            if pbLoadPlot == True:\n",
    "                plt.figure(3)\n",
    "                plt.subplot(122)\n",
    "                plt.plot(objFig)\n",
    "                plt.ylim(-1.5,1.5)\n",
    "                plt.show()\n",
    "\n",
    "            plt.figure(1)\n",
    "            Z2invClass = Z2inv()\n",
    "            Z2 = [Z2invClass.Get_Z2(N = i, idx_seg = 1),\n",
    "                  Z2invClass.Get_Z2(N = j, idx_seg = 2, ytrans = k), None]\n",
    "            if Z2[0] == Z2[1]:\n",
    "                Z2[2] = 'sym'\n",
    "            else:\n",
    "                Z2[2] = 'nonsym'\n",
    "\n",
    "            table_temp = pd.DataFrame({'N1': i,\n",
    "                          'N2': j,\n",
    "                          'ytrans': k,\n",
    "                          'Z2_N1': Z2[0],\n",
    "                          'Z2_N2': Z2[1],\n",
    "                          'Z2_prop': Z2[2],\n",
    "                          '#atoms': str(3*2*i) +str('/ ')+ str(3*2*j) +str('/ ')+ str(3*2*(i+j))+'(total)',\n",
    "                          'Egap$[eV]$': str(2*Emin)[:5]},\n",
    "                            index =[loop_counter])\n",
    "\n",
    "            #display(pd.DataFrame(table_unit))\n",
    "            \n",
    "            if loop_counter == 0:\n",
    "                final_df = table_temp\n",
    "                #final_df = pd.concat([final_df, table_temp])#table_temp\n",
    "            if loop_counter != 0:#0 :\n",
    "                final_df = pd.concat([final_df, table_temp])\n",
    "                \n",
    "            display(final_df)\n",
    "            plt.show()\n",
    "    display(final_df)\n",
    "    final_df.to_csv(\"final_df.csv\", mode='w')"
   ]
  },
  {
   "cell_type": "code",
   "execution_count": 8,
   "metadata": {},
   "outputs": [
    {
     "name": "stdout",
     "output_type": "stream",
     "text": [
      "[5, 8, 11, 14, 17, 20, 23, 26, 29, 32, 35, 38, 41, 44, 47, 50, 53, 56, 59, 62] [2, 5, 8, 11, 14, 17, 20, 23, 26, 29, 32, 35, 38, 41, 44, 47, 50, 53, 56, 59]\n",
      "k 0\n",
      "d_list [0, 1]\n"
     ]
    },
    {
     "ename": "NameError",
     "evalue": "name 'display' is not defined",
     "output_type": "error",
     "traceback": [
      "\u001b[1;31m---------------------------------------------------------------------------\u001b[0m",
      "\u001b[1;31mNameError\u001b[0m                                 Traceback (most recent call last)",
      "\u001b[1;32m<ipython-input-8-7ddde1277d7b>\u001b[0m in \u001b[0;36m<module>\u001b[1;34m()\u001b[0m\n\u001b[0;32m      3\u001b[0m           [i for i in range(N - 3, (N - 3) + num*step, step)]]\n\u001b[0;32m      4\u001b[0m \u001b[0mprint\u001b[0m\u001b[1;33m(\u001b[0m\u001b[0mN_list\u001b[0m\u001b[1;33m[\u001b[0m\u001b[1;36m0\u001b[0m\u001b[1;33m]\u001b[0m\u001b[1;33m,\u001b[0m \u001b[0mN_list\u001b[0m\u001b[1;33m[\u001b[0m\u001b[1;36m1\u001b[0m\u001b[1;33m]\u001b[0m\u001b[1;33m)\u001b[0m\u001b[1;33m\u001b[0m\u001b[0m\n\u001b[1;32m----> 5\u001b[1;33m \u001b[0mplot_forloop\u001b[0m\u001b[1;33m(\u001b[0m\u001b[0mN_list\u001b[0m \u001b[1;33m=\u001b[0m \u001b[0mN_list\u001b[0m\u001b[1;33m,\u001b[0m \u001b[0mseg_diff\u001b[0m \u001b[1;33m=\u001b[0m \u001b[1;33m[\u001b[0m\u001b[1;36m0\u001b[0m\u001b[1;33m]\u001b[0m\u001b[1;33m)\u001b[0m\u001b[1;31m#, 1])\u001b[0m\u001b[1;33m\u001b[0m\u001b[0m\n\u001b[0m",
      "\u001b[1;32m<ipython-input-7-b2fe8a6807f9>\u001b[0m in \u001b[0;36mplot_forloop\u001b[1;34m(N_list, seg_diff)\u001b[0m\n\u001b[0;32m    117\u001b[0m                 \u001b[0mfinal_df\u001b[0m \u001b[1;33m=\u001b[0m \u001b[0mpd\u001b[0m\u001b[1;33m.\u001b[0m\u001b[0mconcat\u001b[0m\u001b[1;33m(\u001b[0m\u001b[1;33m[\u001b[0m\u001b[0mfinal_df\u001b[0m\u001b[1;33m,\u001b[0m \u001b[0mtable_temp\u001b[0m\u001b[1;33m]\u001b[0m\u001b[1;33m)\u001b[0m\u001b[1;33m\u001b[0m\u001b[0m\n\u001b[0;32m    118\u001b[0m \u001b[1;33m\u001b[0m\u001b[0m\n\u001b[1;32m--> 119\u001b[1;33m             \u001b[0mdisplay\u001b[0m\u001b[1;33m(\u001b[0m\u001b[0mfinal_df\u001b[0m\u001b[1;33m)\u001b[0m\u001b[1;33m\u001b[0m\u001b[0m\n\u001b[0m\u001b[0;32m    120\u001b[0m             \u001b[0mplt\u001b[0m\u001b[1;33m.\u001b[0m\u001b[0mshow\u001b[0m\u001b[1;33m(\u001b[0m\u001b[1;33m)\u001b[0m\u001b[1;33m\u001b[0m\u001b[0m\n\u001b[0;32m    121\u001b[0m     \u001b[0mdisplay\u001b[0m\u001b[1;33m(\u001b[0m\u001b[0mfinal_df\u001b[0m\u001b[1;33m)\u001b[0m\u001b[1;33m\u001b[0m\u001b[0m\n",
      "\u001b[1;31mNameError\u001b[0m: name 'display' is not defined"
     ]
    }
   ],
   "source": [
    "N, num, step = 5, 20, 3\n",
    "N_list = [[i for i in range(N, N+num*step, step)],\n",
    "          [i for i in range(N - 3, (N - 3) + num*step, step)]]\n",
    "print(N_list[0], N_list[1])\n",
    "plot_forloop(N_list = N_list, seg_diff = [0])#, 1])"
   ]
  },
  {
   "cell_type": "code",
   "execution_count": 9,
   "metadata": {},
   "outputs": [
    {
     "name": "stdout",
     "output_type": "stream",
     "text": [
      "[5, 8, 11, 14, 17, 20, 23, 26, 29, 32] [2, 5, 8, 11, 14, 17, 20, 23, 26, 29]\n",
      "k 0\n",
      "d_list [0, 1]\n"
     ]
    },
    {
     "ename": "NameError",
     "evalue": "name 'display' is not defined",
     "output_type": "error",
     "traceback": [
      "\u001b[1;31m---------------------------------------------------------------------------\u001b[0m",
      "\u001b[1;31mNameError\u001b[0m                                 Traceback (most recent call last)",
      "\u001b[1;32m<ipython-input-9-4114afbb30ea>\u001b[0m in \u001b[0;36m<module>\u001b[1;34m()\u001b[0m\n\u001b[0;32m      3\u001b[0m           [i for i in range(N - 3, (N - 3) + num*step, step)]]\n\u001b[0;32m      4\u001b[0m \u001b[0mprint\u001b[0m\u001b[1;33m(\u001b[0m\u001b[0mN_list\u001b[0m\u001b[1;33m[\u001b[0m\u001b[1;36m0\u001b[0m\u001b[1;33m]\u001b[0m\u001b[1;33m,\u001b[0m \u001b[0mN_list\u001b[0m\u001b[1;33m[\u001b[0m\u001b[1;36m1\u001b[0m\u001b[1;33m]\u001b[0m\u001b[1;33m)\u001b[0m\u001b[1;33m\u001b[0m\u001b[0m\n\u001b[1;32m----> 5\u001b[1;33m \u001b[0mplot_forloop\u001b[0m\u001b[1;33m(\u001b[0m\u001b[0mN_list\u001b[0m \u001b[1;33m=\u001b[0m \u001b[0mN_list\u001b[0m\u001b[1;33m,\u001b[0m \u001b[0mseg_diff\u001b[0m \u001b[1;33m=\u001b[0m \u001b[1;33m[\u001b[0m\u001b[1;36m0\u001b[0m\u001b[1;33m]\u001b[0m\u001b[1;33m)\u001b[0m\u001b[1;31m#, 1])\u001b[0m\u001b[1;33m\u001b[0m\u001b[0m\n\u001b[0m",
      "\u001b[1;32m<ipython-input-7-b2fe8a6807f9>\u001b[0m in \u001b[0;36mplot_forloop\u001b[1;34m(N_list, seg_diff)\u001b[0m\n\u001b[0;32m    117\u001b[0m                 \u001b[0mfinal_df\u001b[0m \u001b[1;33m=\u001b[0m \u001b[0mpd\u001b[0m\u001b[1;33m.\u001b[0m\u001b[0mconcat\u001b[0m\u001b[1;33m(\u001b[0m\u001b[1;33m[\u001b[0m\u001b[0mfinal_df\u001b[0m\u001b[1;33m,\u001b[0m \u001b[0mtable_temp\u001b[0m\u001b[1;33m]\u001b[0m\u001b[1;33m)\u001b[0m\u001b[1;33m\u001b[0m\u001b[0m\n\u001b[0;32m    118\u001b[0m \u001b[1;33m\u001b[0m\u001b[0m\n\u001b[1;32m--> 119\u001b[1;33m             \u001b[0mdisplay\u001b[0m\u001b[1;33m(\u001b[0m\u001b[0mfinal_df\u001b[0m\u001b[1;33m)\u001b[0m\u001b[1;33m\u001b[0m\u001b[0m\n\u001b[0m\u001b[0;32m    120\u001b[0m             \u001b[0mplt\u001b[0m\u001b[1;33m.\u001b[0m\u001b[0mshow\u001b[0m\u001b[1;33m(\u001b[0m\u001b[1;33m)\u001b[0m\u001b[1;33m\u001b[0m\u001b[0m\n\u001b[0;32m    121\u001b[0m     \u001b[0mdisplay\u001b[0m\u001b[1;33m(\u001b[0m\u001b[0mfinal_df\u001b[0m\u001b[1;33m)\u001b[0m\u001b[1;33m\u001b[0m\u001b[0m\n",
      "\u001b[1;31mNameError\u001b[0m: name 'display' is not defined"
     ]
    }
   ],
   "source": [
    "N, num, step = 5, 10, 3\n",
    "N_list = [[i for i in range(N, N+num*step, step)],\n",
    "          [i for i in range(N - 3, (N - 3) + num*step, step)]]\n",
    "print(N_list[0], N_list[1])\n",
    "plot_forloop(N_list = N_list, seg_diff = [0])#, 1])"
   ]
  },
  {
   "cell_type": "code",
   "execution_count": 10,
   "metadata": {},
   "outputs": [
    {
     "name": "stdout",
     "output_type": "stream",
     "text": [
      "[5, 8, 11, 14, 17, 20, 23, 26, 29, 32] [2, 5, 8, 11, 14, 17, 20, 23, 26, 29]\n",
      "k 0\n",
      "d_list [0, 1]\n"
     ]
    },
    {
     "ename": "NameError",
     "evalue": "name 'display' is not defined",
     "output_type": "error",
     "traceback": [
      "\u001b[1;31m---------------------------------------------------------------------------\u001b[0m",
      "\u001b[1;31mNameError\u001b[0m                                 Traceback (most recent call last)",
      "\u001b[1;32m<ipython-input-10-4114afbb30ea>\u001b[0m in \u001b[0;36m<module>\u001b[1;34m()\u001b[0m\n\u001b[0;32m      3\u001b[0m           [i for i in range(N - 3, (N - 3) + num*step, step)]]\n\u001b[0;32m      4\u001b[0m \u001b[0mprint\u001b[0m\u001b[1;33m(\u001b[0m\u001b[0mN_list\u001b[0m\u001b[1;33m[\u001b[0m\u001b[1;36m0\u001b[0m\u001b[1;33m]\u001b[0m\u001b[1;33m,\u001b[0m \u001b[0mN_list\u001b[0m\u001b[1;33m[\u001b[0m\u001b[1;36m1\u001b[0m\u001b[1;33m]\u001b[0m\u001b[1;33m)\u001b[0m\u001b[1;33m\u001b[0m\u001b[0m\n\u001b[1;32m----> 5\u001b[1;33m \u001b[0mplot_forloop\u001b[0m\u001b[1;33m(\u001b[0m\u001b[0mN_list\u001b[0m \u001b[1;33m=\u001b[0m \u001b[0mN_list\u001b[0m\u001b[1;33m,\u001b[0m \u001b[0mseg_diff\u001b[0m \u001b[1;33m=\u001b[0m \u001b[1;33m[\u001b[0m\u001b[1;36m0\u001b[0m\u001b[1;33m]\u001b[0m\u001b[1;33m)\u001b[0m\u001b[1;31m#, 1])\u001b[0m\u001b[1;33m\u001b[0m\u001b[0m\n\u001b[0m",
      "\u001b[1;32m<ipython-input-7-b2fe8a6807f9>\u001b[0m in \u001b[0;36mplot_forloop\u001b[1;34m(N_list, seg_diff)\u001b[0m\n\u001b[0;32m    117\u001b[0m                 \u001b[0mfinal_df\u001b[0m \u001b[1;33m=\u001b[0m \u001b[0mpd\u001b[0m\u001b[1;33m.\u001b[0m\u001b[0mconcat\u001b[0m\u001b[1;33m(\u001b[0m\u001b[1;33m[\u001b[0m\u001b[0mfinal_df\u001b[0m\u001b[1;33m,\u001b[0m \u001b[0mtable_temp\u001b[0m\u001b[1;33m]\u001b[0m\u001b[1;33m)\u001b[0m\u001b[1;33m\u001b[0m\u001b[0m\n\u001b[0;32m    118\u001b[0m \u001b[1;33m\u001b[0m\u001b[0m\n\u001b[1;32m--> 119\u001b[1;33m             \u001b[0mdisplay\u001b[0m\u001b[1;33m(\u001b[0m\u001b[0mfinal_df\u001b[0m\u001b[1;33m)\u001b[0m\u001b[1;33m\u001b[0m\u001b[0m\n\u001b[0m\u001b[0;32m    120\u001b[0m             \u001b[0mplt\u001b[0m\u001b[1;33m.\u001b[0m\u001b[0mshow\u001b[0m\u001b[1;33m(\u001b[0m\u001b[1;33m)\u001b[0m\u001b[1;33m\u001b[0m\u001b[0m\n\u001b[0;32m    121\u001b[0m     \u001b[0mdisplay\u001b[0m\u001b[1;33m(\u001b[0m\u001b[0mfinal_df\u001b[0m\u001b[1;33m)\u001b[0m\u001b[1;33m\u001b[0m\u001b[0m\n",
      "\u001b[1;31mNameError\u001b[0m: name 'display' is not defined"
     ]
    }
   ],
   "source": [
    "N, num, step = 5, 10, 3\n",
    "N_list = [[i for i in range(N, N+num*step, step)],\n",
    "          [i for i in range(N - 3, (N - 3) + num*step, step)]]\n",
    "print(N_list[0], N_list[1])\n",
    "plot_forloop(N_list = N_list, seg_diff = [0])#, 1])"
   ]
  },
  {
   "cell_type": "code",
   "execution_count": 11,
   "metadata": {},
   "outputs": [
    {
     "ename": "NameError",
     "evalue": "name 'j' is not defined",
     "output_type": "error",
     "traceback": [
      "\u001b[1;31m---------------------------------------------------------------------------\u001b[0m",
      "\u001b[1;31mNameError\u001b[0m                                 Traceback (most recent call last)",
      "\u001b[1;32m<ipython-input-11-22339e456118>\u001b[0m in \u001b[0;36m<module>\u001b[1;34m()\u001b[0m\n\u001b[0;32m      1\u001b[0m \u001b[1;36m5\u001b[0m\u001b[1;33m,\u001b[0m \u001b[1;36m5\u001b[0m\u001b[1;33m,\u001b[0m \u001b[1;36m0\u001b[0m\u001b[1;33m\u001b[0m\u001b[0m\n\u001b[1;32m----> 2\u001b[1;33m \u001b[0mN2\u001b[0m\u001b[1;33m,\u001b[0m \u001b[0mN1\u001b[0m\u001b[1;33m,\u001b[0m \u001b[0md\u001b[0m \u001b[1;33m=\u001b[0m \u001b[0mj\u001b[0m\u001b[1;33m,\u001b[0m \u001b[0mi\u001b[0m\u001b[1;33m,\u001b[0m \u001b[0mk\u001b[0m\u001b[1;33m\u001b[0m\u001b[0m\n\u001b[0m\u001b[0;32m      3\u001b[0m lat_ANGR = Lat_two_seg_AGNR(N1, N2, start_y_seg2 = d,\n\u001b[0;32m      4\u001b[0m                             \u001b[0mt1\u001b[0m\u001b[1;33m=\u001b[0m\u001b[1;33m-\u001b[0m\u001b[1;36m2.8\u001b[0m\u001b[1;33m,\u001b[0m \u001b[0mt2\u001b[0m\u001b[1;33m=\u001b[0m\u001b[1;33m-\u001b[0m\u001b[1;36m2.8\u001b[0m\u001b[1;33m,\u001b[0m \u001b[0mt_interface\u001b[0m \u001b[1;33m=\u001b[0m \u001b[1;33m-\u001b[0m\u001b[1;36m2.8\u001b[0m\u001b[1;33m,\u001b[0m\u001b[1;33m\u001b[0m\u001b[0m\n\u001b[0;32m      5\u001b[0m                             onsite1=0, onsite2=0)#onsite1=Onsite1[i], onsite2=-Onsite1[i])\n",
      "\u001b[1;31mNameError\u001b[0m: name 'j' is not defined"
     ]
    }
   ],
   "source": [
    "5, 5, 0\n",
    "N2, N1, d = j, i, k\n",
    "lat_ANGR = Lat_two_seg_AGNR(N1, N2, start_y_seg2 = d,\n",
    "                            t1=-2.8, t2=-2.8, t_interface = -2.8,\n",
    "                            onsite1=0, onsite2=0)#onsite1=Onsite1[i], onsite2=-Onsite1[i])\n",
    "model_ANGR = pb.Model(lat_ANGR,\n",
    "                      pb.translational_symmetry(a1 = True, a2= False))"
   ]
  },
  {
   "cell_type": "code",
   "execution_count": 12,
   "metadata": {
    "scrolled": true
   },
   "outputs": [
    {
     "name": "stdout",
     "output_type": "stream",
     "text": [
      "[35, 38, 41, 44, 47] [32, 35, 38, 41, 44]\n",
      "k 0\n",
      "d_list [0, 1]\n"
     ]
    },
    {
     "ename": "NameError",
     "evalue": "name 'display' is not defined",
     "output_type": "error",
     "traceback": [
      "\u001b[1;31m---------------------------------------------------------------------------\u001b[0m",
      "\u001b[1;31mNameError\u001b[0m                                 Traceback (most recent call last)",
      "\u001b[1;32m<ipython-input-12-ce7f7603c90f>\u001b[0m in \u001b[0;36m<module>\u001b[1;34m()\u001b[0m\n\u001b[0;32m      3\u001b[0m           [i for i in range(N - 3, (N - 3) + num*step, step)]]\n\u001b[0;32m      4\u001b[0m \u001b[0mprint\u001b[0m\u001b[1;33m(\u001b[0m\u001b[0mN_list\u001b[0m\u001b[1;33m[\u001b[0m\u001b[1;36m0\u001b[0m\u001b[1;33m]\u001b[0m\u001b[1;33m,\u001b[0m \u001b[0mN_list\u001b[0m\u001b[1;33m[\u001b[0m\u001b[1;36m1\u001b[0m\u001b[1;33m]\u001b[0m\u001b[1;33m)\u001b[0m\u001b[1;33m\u001b[0m\u001b[0m\n\u001b[1;32m----> 5\u001b[1;33m \u001b[0mplot_forloop\u001b[0m\u001b[1;33m(\u001b[0m\u001b[0mN_list\u001b[0m \u001b[1;33m=\u001b[0m \u001b[0mN_list\u001b[0m\u001b[1;33m,\u001b[0m \u001b[0mseg_diff\u001b[0m \u001b[1;33m=\u001b[0m \u001b[1;33m[\u001b[0m\u001b[1;36m0\u001b[0m\u001b[1;33m]\u001b[0m\u001b[1;33m)\u001b[0m\u001b[1;31m#, 1])\u001b[0m\u001b[1;33m\u001b[0m\u001b[0m\n\u001b[0m",
      "\u001b[1;32m<ipython-input-7-b2fe8a6807f9>\u001b[0m in \u001b[0;36mplot_forloop\u001b[1;34m(N_list, seg_diff)\u001b[0m\n\u001b[0;32m    117\u001b[0m                 \u001b[0mfinal_df\u001b[0m \u001b[1;33m=\u001b[0m \u001b[0mpd\u001b[0m\u001b[1;33m.\u001b[0m\u001b[0mconcat\u001b[0m\u001b[1;33m(\u001b[0m\u001b[1;33m[\u001b[0m\u001b[0mfinal_df\u001b[0m\u001b[1;33m,\u001b[0m \u001b[0mtable_temp\u001b[0m\u001b[1;33m]\u001b[0m\u001b[1;33m)\u001b[0m\u001b[1;33m\u001b[0m\u001b[0m\n\u001b[0;32m    118\u001b[0m \u001b[1;33m\u001b[0m\u001b[0m\n\u001b[1;32m--> 119\u001b[1;33m             \u001b[0mdisplay\u001b[0m\u001b[1;33m(\u001b[0m\u001b[0mfinal_df\u001b[0m\u001b[1;33m)\u001b[0m\u001b[1;33m\u001b[0m\u001b[0m\n\u001b[0m\u001b[0;32m    120\u001b[0m             \u001b[0mplt\u001b[0m\u001b[1;33m.\u001b[0m\u001b[0mshow\u001b[0m\u001b[1;33m(\u001b[0m\u001b[1;33m)\u001b[0m\u001b[1;33m\u001b[0m\u001b[0m\n\u001b[0;32m    121\u001b[0m     \u001b[0mdisplay\u001b[0m\u001b[1;33m(\u001b[0m\u001b[0mfinal_df\u001b[0m\u001b[1;33m)\u001b[0m\u001b[1;33m\u001b[0m\u001b[0m\n",
      "\u001b[1;31mNameError\u001b[0m: name 'display' is not defined"
     ]
    }
   ],
   "source": [
    "N, num, step = 35, 5, 3\n",
    "N_list = [[i for i in range(N, N+num*step, step)],\n",
    "          [i for i in range(N - 3, (N - 3) + num*step, step)]]\n",
    "print(N_list[0], N_list[1])\n",
    "plot_forloop(N_list = N_list, seg_diff = [0])#, 1])"
   ]
  },
  {
   "cell_type": "markdown",
   "metadata": {},
   "source": [
    "## only few y-translation values are enough to observe band structure trend. Because bandstrucure is more related to ribbon width rather than y-translation."
   ]
  },
  {
   "cell_type": "code",
   "execution_count": null,
   "metadata": {
    "collapsed": true
   },
   "outputs": [],
   "source": [
    "def printer(ars2, args3=3, ars1, *args4):\n",
    "    for i in range(0, len(args4)):\n",
    "        print(args4[i])\n",
    "        \n",
    "printer(1, 2, 3)"
   ]
  },
  {
   "cell_type": "code",
   "execution_count": null,
   "metadata": {
    "collapsed": true
   },
   "outputs": [],
   "source": [
    "class testClass:\n",
    "    '''def __main__(self, var1, var2):\n",
    "        print('init')\n",
    "        self.total = var1, var2\n",
    "        def method1():\n",
    "            print('method1', total)\n",
    "        method1()'''\n",
    "    def __init__(self, var1, var2):\n",
    "        print('init')\n",
    "        self.total = var1 + var2\n",
    "        total = self.total\n",
    "        print('total', total)\n",
    "        def method1():\n",
    "            print('method1', total)\n",
    "       # method1()\n",
    "    print(total)\n",
    "    def printer():\n",
    "        #print(self.total)\n",
    "        return self.total\n",
    "    #print(self.total)\n",
    "classA = testClass(2, 3)\n",
    "sorted\n",
    "#print(classA.printer)"
   ]
  },
  {
   "cell_type": "code",
   "execution_count": 13,
   "metadata": {},
   "outputs": [
    {
     "ename": "NameError",
     "evalue": "name 'Z2' is not defined",
     "output_type": "error",
     "traceback": [
      "\u001b[1;31m---------------------------------------------------------------------------\u001b[0m",
      "\u001b[1;31mNameError\u001b[0m                                 Traceback (most recent call last)",
      "\u001b[1;32m<ipython-input-13-140fd7226fa2>\u001b[0m in \u001b[0;36m<module>\u001b[1;34m()\u001b[0m\n\u001b[0;32m     15\u001b[0m                                     \u001b[1;34m'N2'\u001b[0m\u001b[1;33m:\u001b[0m \u001b[1;33m[\u001b[0m\u001b[0mj\u001b[0m\u001b[1;33m]\u001b[0m\u001b[1;33m,\u001b[0m\u001b[1;33m\u001b[0m\u001b[0m\n\u001b[0;32m     16\u001b[0m                                    \u001b[1;34m'width'\u001b[0m\u001b[1;33m:\u001b[0m \u001b[1;33m[\u001b[0m\u001b[0mi\u001b[0m\u001b[1;33m+\u001b[0m \u001b[0mj\u001b[0m\u001b[1;33m]\u001b[0m\u001b[1;33m,\u001b[0m\u001b[1;33m\u001b[0m\u001b[0m\n\u001b[1;32m---> 17\u001b[1;33m                                    \u001b[1;34m'Z2_N1'\u001b[0m\u001b[1;33m:\u001b[0m \u001b[0mZ2\u001b[0m\u001b[1;33m,\u001b[0m\u001b[1;33m\u001b[0m\u001b[0m\n\u001b[0m\u001b[0;32m     18\u001b[0m                                    \u001b[1;34m'Z2_N2'\u001b[0m\u001b[1;33m:\u001b[0m \u001b[1;36m2\u001b[0m\u001b[1;33m*\u001b[0m\u001b[0mZ2\u001b[0m\u001b[1;33m,\u001b[0m\u001b[1;33m\u001b[0m\u001b[0m\n\u001b[0;32m     19\u001b[0m                                    })\n",
      "\u001b[1;31mNameError\u001b[0m: name 'Z2' is not defined"
     ]
    }
   ],
   "source": [
    "pd_list = []\n",
    "'''table_print = pd.DataFrame({'N1': None,\n",
    "                            'N2': None,\n",
    "                            'width': None,\n",
    "                            'Z2_N1': None,\n",
    "                            'Z2_N2': None,\n",
    "                            '#atoms_N1': None,\n",
    "                            '#atoms_N2': None,\n",
    "                            'Egap$[eV]$': 1})\n",
    "display(table_print)'''\n",
    "\n",
    "for i in range(0, 2):\n",
    "    for j in range(0, 2):\n",
    "        table_print = pd.DataFrame({'N1': [i],\n",
    "                                    'N2': [j],\n",
    "                                   'width': [i+ j],\n",
    "                                   'Z2_N1': Z2,\n",
    "                                   'Z2_N2': 2*Z2,\n",
    "                                   })\n",
    "        display(table_print)\n",
    "        #add_srs = Series([1001, 2001, 3001, 4001], index=[\"i1\", \"i2\", \"i3\", \"i4\"])\n",
    "        pd_list.append(table_print)\n",
    "        #lat_1=pb.Lattice(a1=[1,0], a2=[0,1])\n",
    "\n",
    "        #lat_1.add_sublattices(('a',[0, 1], 0))\n",
    "        #lat_1.plot()\n",
    "        #plt.show()\n",
    "final_df = pd_list[0]\n",
    "for i in range(1, len(pd_list)):\n",
    "    final_df = pd.merge(final_df, pd_list[i], on='outer')\n",
    "display(final_df)"
   ]
  },
  {
   "cell_type": "code",
   "execution_count": 14,
   "metadata": {},
   "outputs": [
    {
     "ename": "NameError",
     "evalue": "name 'display' is not defined",
     "output_type": "error",
     "traceback": [
      "\u001b[1;31m---------------------------------------------------------------------------\u001b[0m",
      "\u001b[1;31mNameError\u001b[0m                                 Traceback (most recent call last)",
      "\u001b[1;32m<ipython-input-14-73769ceb47e4>\u001b[0m in \u001b[0;36m<module>\u001b[1;34m()\u001b[0m\n\u001b[0;32m      5\u001b[0m                     \u001b[1;34m'age'\u001b[0m \u001b[1;33m:\u001b[0m \u001b[1;33m[\u001b[0m\u001b[1;36m15\u001b[0m\u001b[1;33m,\u001b[0m \u001b[1;36m25\u001b[0m\u001b[1;33m,\u001b[0m \u001b[1;36m35\u001b[0m\u001b[1;33m]\u001b[0m\u001b[1;33m,\u001b[0m\u001b[1;33m\u001b[0m\u001b[0m\n\u001b[0;32m      6\u001b[0m                     'birth' : ['Th', 'F', 'S']})\n\u001b[1;32m----> 7\u001b[1;33m \u001b[0mdisplay\u001b[0m\u001b[1;33m(\u001b[0m\u001b[0mdf1\u001b[0m\u001b[1;33m)\u001b[0m\u001b[1;33m\u001b[0m\u001b[0m\n\u001b[0m\u001b[0;32m      8\u001b[0m \u001b[0mdisplay\u001b[0m\u001b[1;33m(\u001b[0m\u001b[0mdf2\u001b[0m\u001b[1;33m)\u001b[0m\u001b[1;33m\u001b[0m\u001b[0m\n\u001b[0;32m      9\u001b[0m \u001b[0mdf3\u001b[0m\u001b[1;33m=\u001b[0m \u001b[0mdf1\u001b[0m\u001b[1;33m+\u001b[0m\u001b[0mdf2\u001b[0m\u001b[1;33m\u001b[0m\u001b[0m\n",
      "\u001b[1;31mNameError\u001b[0m: name 'display' is not defined"
     ]
    }
   ],
   "source": [
    "df1 = pd.DataFrame({'name': ['Alice', 'Bob', 'Charles'],\n",
    "                    'age' : [10, 20, 30],\n",
    "                    'birth' : ['M', 'T', 'W']})\n",
    "df2 = pd.DataFrame({'name': ['David', 'Eva', 'Feynmann'],\n",
    "                    'age' : [15, 25, 35],\n",
    "                    'birth' : ['Th', 'F', 'S']})\n",
    "display(df1)\n",
    "display(df2)\n",
    "df3= df1+df2\n",
    "display(df3)\n",
    "df4 = pd.concat([df1, df2])\n",
    "display(df4)"
   ]
  },
  {
   "cell_type": "code",
   "execution_count": 15,
   "metadata": {},
   "outputs": [
    {
     "name": "stdout",
     "output_type": "stream",
     "text": [
      "['a', 'b', 'c', ' ', 'd', 'e', 'f']\n"
     ]
    }
   ],
   "source": [
    "print(list('abc def'))"
   ]
  },
  {
   "cell_type": "code",
   "execution_count": 16,
   "metadata": {},
   "outputs": [
    {
     "ename": "NameError",
     "evalue": "name 'k' is not defined",
     "output_type": "error",
     "traceback": [
      "\u001b[1;31m---------------------------------------------------------------------------\u001b[0m",
      "\u001b[1;31mNameError\u001b[0m                                 Traceback (most recent call last)",
      "\u001b[1;32m<ipython-input-16-167df0a8ecf0>\u001b[0m in \u001b[0;36m<module>\u001b[1;34m()\u001b[0m\n\u001b[0;32m      1\u001b[0m table_print = pd.DataFrame({'item': ['N1', 'N2', 'ytrans'],\n\u001b[1;32m----> 2\u001b[1;33m                                        \u001b[1;34m'width'\u001b[0m\u001b[1;33m:\u001b[0m \u001b[1;33m[\u001b[0m\u001b[0mi\u001b[0m\u001b[1;33m,\u001b[0m \u001b[0mj\u001b[0m\u001b[1;33m,\u001b[0m \u001b[0mk\u001b[0m\u001b[1;33m]\u001b[0m\u001b[1;33m,\u001b[0m\u001b[1;33m\u001b[0m\u001b[0m\n\u001b[0m\u001b[0;32m      3\u001b[0m                                        \u001b[1;34m'Z2'\u001b[0m\u001b[1;33m:\u001b[0m \u001b[0mZ2\u001b[0m\u001b[1;33m,\u001b[0m\u001b[1;33m\u001b[0m\u001b[0m\n\u001b[0;32m      4\u001b[0m                                        \u001b[1;34m'#atoms'\u001b[0m\u001b[1;33m:\u001b[0m \u001b[1;33m[\u001b[0m\u001b[1;36m3\u001b[0m\u001b[1;33m*\u001b[0m\u001b[1;36m2\u001b[0m\u001b[1;33m*\u001b[0m\u001b[0mi\u001b[0m\u001b[1;33m,\u001b[0m \u001b[1;36m3\u001b[0m\u001b[1;33m*\u001b[0m\u001b[1;36m2\u001b[0m\u001b[1;33m*\u001b[0m\u001b[0mj\u001b[0m\u001b[1;33m,\u001b[0m \u001b[0mstr\u001b[0m\u001b[1;33m(\u001b[0m\u001b[1;36m3\u001b[0m\u001b[1;33m*\u001b[0m\u001b[1;36m2\u001b[0m\u001b[1;33m*\u001b[0m\u001b[1;33m(\u001b[0m\u001b[0mi\u001b[0m\u001b[1;33m+\u001b[0m\u001b[0mj\u001b[0m\u001b[1;33m)\u001b[0m\u001b[1;33m)\u001b[0m\u001b[1;33m+\u001b[0m\u001b[1;34m'(total)'\u001b[0m\u001b[1;33m]\u001b[0m\u001b[1;33m,\u001b[0m\u001b[1;33m\u001b[0m\u001b[0m\n\u001b[0;32m      5\u001b[0m                                        'Egap$[eV]$': [str(2*Emin)[:5], None, None]})\n",
      "\u001b[1;31mNameError\u001b[0m: name 'k' is not defined"
     ]
    }
   ],
   "source": [
    "table_print = pd.DataFrame({'item': ['N1', 'N2', 'ytrans'],\n",
    "                                       'width': [i, j, k],\n",
    "                                       'Z2': Z2,\n",
    "                                       '#atoms': [3*2*i, 3*2*j, str(3*2*(i+j))+'(total)'],\n",
    "                                       'Egap$[eV]$': [str(2*Emin)[:5], None, None]})\n",
    "table_print\n",
    "display(table_print)"
   ]
  },
  {
   "cell_type": "code",
   "execution_count": null,
   "metadata": {
    "collapsed": true
   },
   "outputs": [],
   "source": []
  }
 ],
 "metadata": {
  "kernelspec": {
   "display_name": "Python 3",
   "language": "python",
   "name": "python3"
  },
  "language_info": {
   "codemirror_mode": {
    "name": "ipython",
    "version": 3
   },
   "file_extension": ".py",
   "mimetype": "text/x-python",
   "name": "python",
   "nbconvert_exporter": "python",
   "pygments_lexer": "ipython3",
   "version": "3.6.1"
  }
 },
 "nbformat": 4,
 "nbformat_minor": 2
}
